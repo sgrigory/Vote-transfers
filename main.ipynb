{
 "cells": [
  {
   "cell_type": "markdown",
   "metadata": {
    "collapsed": true
   },
   "source": [
    "# Vote transfers in French presidential elections"
   ]
  },
  {
   "cell_type": "code",
   "execution_count": 2,
   "metadata": {
    "collapsed": false
   },
   "outputs": [
    {
     "name": "stderr",
     "output_type": "stream",
     "text": [
      "/Users/grisha.oryol/anaconda/lib/python2.7/site-packages/matplotlib/font_manager.py:273: UserWarning: Matplotlib is building the font cache using fc-list. This may take a moment.\n",
      "  warnings.warn('Matplotlib is building the font cache using fc-list. This may take a moment.')\n"
     ]
    }
   ],
   "source": [
    "import pandas as pd\n",
    "import numpy as np\n",
    "import seaborn as sns\n",
    "import matplotlib.pyplot as plt\n",
    "from matplotlib import colors as mcolors,cm,colorbar\n",
    "import scipy\n",
    "import re"
   ]
  },
  {
   "cell_type": "code",
   "execution_count": 3,
   "metadata": {
    "collapsed": false
   },
   "outputs": [],
   "source": [
    "from IPython.display import HTML"
   ]
  },
  {
   "cell_type": "code",
   "execution_count": 24,
   "metadata": {
    "collapsed": true
   },
   "outputs": [],
   "source": [
    "from sklearn import model_selection"
   ]
  },
  {
   "cell_type": "markdown",
   "metadata": {},
   "source": [
    "## Load the data"
   ]
  },
  {
   "cell_type": "code",
   "execution_count": null,
   "metadata": {
    "collapsed": false
   },
   "outputs": [],
   "source": []
  },
  {
   "cell_type": "code",
   "execution_count": 5,
   "metadata": {
    "collapsed": true
   },
   "outputs": [],
   "source": [
    "def cleanup(df_bur):\n",
    "    df_bur=df_bur.rename(columns={'Code du département':\"Code du departement\",'Département':u'Departement','Prénom':'Prenom',\n",
    "                              'Exprimés':'Exprimes',\n",
    "                              'Coordonnées':'Coordonnees',\n",
    "                              'N°Panneau':'Panneau'\n",
    "                             })\n",
    "    df_bur=df_bur.drop(['Prenom','Sexe'],axis=1)\n",
    "    df_bur['Bureau de vote']=df_bur['Bureau de vote'].apply(lambda x:str(x)[2:] if (str(x)[:2]=='BV') else x).apply(lambda x: re.sub(\"^[0]+\",\"\",str(x)))\n",
    "    df_bur['Code de la commune']=df_bur['Code de la commune'].apply(lambda x: re.sub(\"^[0]+\",\"\",str(x)))\n",
    "    df_bur['Code du departement']=df_bur['Code du departement'].apply(lambda x: re.sub(\"^[0]+\",\"\",str(x)))\n",
    "    df_bur['Code de la circonscription']=df_bur['Code de la circonscription'].apply(lambda x: re.sub(\"^[0]+\",\"\",str(x)))\n",
    "    e1=df_bur[[u'Departement',\n",
    "       u'Circonscription', u'Commune','Bureau de vote']+[u'Inscrits',u'Abstentions',                  u'% Abs/Ins',\n",
    "                          u'Votants',                  u'% Vot/Ins',\n",
    "                           u'Blancs',               u'% Blancs/Ins',\n",
    "                     u'% Blancs/Vot',                       u'Nuls',\n",
    "                       u'% Nuls/Ins',                 u'% Nuls/Vot',\n",
    "                         u'Exprimes']].set_index([u'Departement',\n",
    "       u'Circonscription', u'Commune', 'Bureau de vote']).drop_duplicates()\n",
    "    \n",
    "    df_b1=df_bur.pivot_table(index=[u'Departement',\n",
    "       u'Circonscription', u'Commune', 'Bureau de vote'],columns = u'Nom',values='Voix')\n",
    "    \n",
    "    tab=pd.merge(df_b1,e1,left_index=True,right_index=True)\n",
    "    \n",
    "    if ('MÉLENCHON' in tab.columns):\n",
    "        tab=tab.rename(columns={'MÉLENCHON':'MELENCHON'})\n",
    "    \n",
    "    return tab"
   ]
  },
  {
   "cell_type": "markdown",
   "metadata": {},
   "source": [
    "#### Load the data"
   ]
  },
  {
   "cell_type": "code",
   "execution_count": 6,
   "metadata": {
    "collapsed": false
   },
   "outputs": [
    {
     "name": "stderr",
     "output_type": "stream",
     "text": [
      "/Users/grisha.oryol/anaconda/lib/python2.7/site-packages/IPython/core/interactiveshell.py:2717: DtypeWarning: Columns (0,6,28) have mixed types. Specify dtype option on import or set low_memory=False.\n",
      "  interactivity=interactivity, compiler=compiler, result=result)\n",
      "/Users/grisha.oryol/anaconda/lib/python2.7/site-packages/IPython/core/interactiveshell.py:2717: DtypeWarning: Columns (6) have mixed types. Specify dtype option on import or set low_memory=False.\n",
      "  interactivity=interactivity, compiler=compiler, result=result)\n"
     ]
    }
   ],
   "source": [
    "df_bur = pd.read_csv(\"election-presidentielle-2017-resultats-par-bureaux-de-vote-tour-1.csv\",sep=';',decimal=',')\n",
    "df_bur2 = pd.read_csv(\"election-presidentielle-2017-resultats-par-bureaux-de-vote-tour-2.csv\",sep=';',decimal=',')"
   ]
  },
  {
   "cell_type": "markdown",
   "metadata": {},
   "source": [
    "#### and clean it up a bit"
   ]
  },
  {
   "cell_type": "code",
   "execution_count": 7,
   "metadata": {
    "collapsed": false
   },
   "outputs": [],
   "source": [
    "tab=cleanup(df_bur)"
   ]
  },
  {
   "cell_type": "code",
   "execution_count": 8,
   "metadata": {
    "collapsed": true
   },
   "outputs": [],
   "source": [
    "tab2=cleanup(df_bur2)"
   ]
  },
  {
   "cell_type": "markdown",
   "metadata": {},
   "source": [
    "#### Check that the data if consistent"
   ]
  },
  {
   "cell_type": "code",
   "execution_count": 9,
   "metadata": {
    "collapsed": false
   },
   "outputs": [
    {
     "name": "stdout",
     "output_type": "stream",
     "text": [
      "True\n",
      "0\n",
      "0\n"
     ]
    }
   ],
   "source": [
    "print(np.all(tab['Votants']+tab['Abstentions']-tab['Inscrits']==0))\n",
    "print((tab[[u'ARTHAUD', u'ASSELINEAU', u'CHEMINADE', u'DUPONT-AIGNAN', u'FILLON',\n",
    "       u'HAMON', u'LASSALLE', u'LE PEN', u'MACRON', u'POUTOU',u'MELENCHON']].sum(axis=1)-tab[u'Exprimes']!=0).sum())\n",
    "print((tab[[u'ARTHAUD', u'ASSELINEAU', u'CHEMINADE', u'DUPONT-AIGNAN', u'FILLON',\n",
    "       u'HAMON', u'LASSALLE', u'LE PEN', u'MACRON', u'POUTOU',u'MELENCHON', u'Blancs',u'Nuls']].sum(axis=1)-tab[u'Votants']!=0).sum())"
   ]
  },
  {
   "cell_type": "markdown",
   "metadata": {},
   "source": [
    "#### merge the results of two rounds into one table"
   ]
  },
  {
   "cell_type": "code",
   "execution_count": 10,
   "metadata": {
    "collapsed": true
   },
   "outputs": [],
   "source": [
    "merged=pd.merge(tab,tab2,left_index=True,right_index=True,how='inner')"
   ]
  },
  {
   "cell_type": "markdown",
   "metadata": {},
   "source": [
    "Here we merge into one cathegory voters which voted blanc, voters which voted nul and \n",
    "registered voters which abstained. We also merge into one cathegory the five least successful candidates .\n",
    "This step is not strictly necessary, but there are two reasons for doing it: first, with less cathegories\n",
    "there are less parameters to tune and the model turns out more robust. Second, the shares of votes corresponding to \n",
    "these minor cathegories are so small that they are comparable with the error of the model itself, so by including them \n",
    "we won't get any reliable new information"
   ]
  },
  {
   "cell_type": "code",
   "execution_count": 13,
   "metadata": {
    "collapsed": false
   },
   "outputs": [],
   "source": [
    "merged['Abstention, blanc, nul']=merged[['Blancs_y','Nuls_y','Abstentions_y']].sum(axis=1)\n",
    "merged['Abstention, blanc, nul_x']=merged[['Blancs_x','Nuls_x','Abstentions_x']].sum(axis=1)\n",
    "merged['Other candidates']=merged[['ARTHAUD','ASSELINEAU','CHEMINADE','LASSALLE','POUTOU']].sum(axis=1)"
   ]
  },
  {
   "cell_type": "code",
   "execution_count": 14,
   "metadata": {
    "collapsed": false
   },
   "outputs": [],
   "source": [
    "nms_compressed=['Other candidates',\n",
    " u'DUPONT-AIGNAN',\n",
    " u'FILLON',\n",
    " u'HAMON',\n",
    " u'LE PEN_x',\n",
    " u'MELENCHON',\n",
    " 'MACRON_x','Abstention, blanc, nul_x']"
   ]
  },
  {
   "cell_type": "code",
   "execution_count": 15,
   "metadata": {
    "collapsed": false
   },
   "outputs": [],
   "source": [
    "options_2iem_compressed=['LE PEN_y', 'MACRON_y', 'Abstention, blanc, nul']"
   ]
  },
  {
   "cell_type": "markdown",
   "metadata": {},
   "source": [
    "## Optimization procedure"
   ]
  },
  {
   "cell_type": "code",
   "execution_count": 16,
   "metadata": {
    "collapsed": true
   },
   "outputs": [],
   "source": [
    "def optimize(merged):\n",
    "    print('opimizing, input table has '+str(merged.shape[0])+\" rows\")\n",
    "    y1=(merged[options_2iem_compressed].T/merged['Inscrits_y']).T[merged['Inscrits_x']!=0]\n",
    "    X1=(merged[nms_compressed].T/merged['Inscrits_x']).T[merged['Inscrits_x']!=0]\n",
    "    n_2iem=len(options_2iem_compressed)\n",
    "    def rshp(prob):\n",
    "        tmp1=np.reshape(prob,(len(options_2iem_compressed)-1,X1.shape[1])).T\n",
    "        tmp2=np.concatenate((tmp1,np.array([1-tmp1.sum(axis=1)]).T),axis=1)\n",
    "        return(tmp2)\n",
    "\n",
    "    def loss_func(prob):\n",
    "        #lst=np.split(prob,len(options_2iem)-1)\n",
    "        y1=(merged[options_2iem_compressed].T/merged['Inscrits_y']).T[merged['Inscrits_x']!=0]\n",
    "        tmp2=rshp(prob)\n",
    "        ret=np.sum((np.dot(X1,tmp2)-y1)**2).sum()\n",
    "        return ret\n",
    "    def fun_constr(prob):\n",
    "        return 1-np.reshape(prob,(n_2iem-1,X1.shape[1])).sum(axis=0)\n",
    "    bs=[(0,1)]*(X1.shape[1])*(n_2iem-1)\n",
    "    x0=np.array(X1.shape[1]*(n_2iem-1)*[0.2])\n",
    "    constr={'type':'ineq','fun':fun_constr}\n",
    "    opt=scipy.optimize.minimize(loss_func,\n",
    "                   x0,#jac=jac,\n",
    "                   method = 'SLSQP',\n",
    "                   bounds = bs,\n",
    "                   constraints = constr\n",
    "\n",
    "        )\n",
    "    print(opt)\n",
    "    print('error: '+str(np.sqrt(opt.fun/len(y1))))\n",
    "    res=pd.DataFrame(rshp(opt.x),columns=options_2iem_compressed,index=nms_compressed).round(3)\n",
    "    return(res)"
   ]
  },
  {
   "cell_type": "code",
   "execution_count": 17,
   "metadata": {
    "collapsed": false
   },
   "outputs": [
    {
     "name": "stdout",
     "output_type": "stream",
     "text": [
      "opimizing, input table has 67086 rows\n",
      "     fun: 263.9150962426472\n",
      "     jac: array([ -6.59942627e-03,   5.11169434e-04,  -1.07574463e-02,\n",
      "         1.97242279e+01,  -6.33101425e+01,   5.07683563e+00,\n",
      "         6.11039886e+01,  -2.21366882e-02,   2.07901001e-03,\n",
      "         3.40237427e+00,   2.37121582e-02,  -1.57351341e+01,\n",
      "         2.79375237e+02,   2.06604004e-02,  -9.10418243e+01,\n",
      "         2.75230408e-02,   0.00000000e+00])\n",
      " message: 'Optimization terminated successfully.'\n",
      "    nfev: 429\n",
      "     nit: 23\n",
      "    njev: 23\n",
      "  status: 0\n",
      " success: True\n",
      "       x: array([  3.20825690e-01,   5.95711137e-01,   1.26343719e-01,\n",
      "         0.00000000e+00,   9.99999999e-01,   3.47440410e-10,\n",
      "         0.00000000e+00,   6.69247230e-02,   2.57538331e-01,\n",
      "         1.10623686e-10,   5.93119167e-01,   1.00000000e+00,\n",
      "         0.00000000e+00,   5.29850020e-01,   1.00000000e+00,\n",
      "         1.09478907e-01])\n",
      "error: 0.0627219287052\n"
     ]
    }
   ],
   "source": [
    "res_c=optimize(merged)"
   ]
  },
  {
   "cell_type": "markdown",
   "metadata": {},
   "source": [
    "#### Let us see how the results change if we take two different subsets of the original data"
   ]
  },
  {
   "cell_type": "code",
   "execution_count": 34,
   "metadata": {
    "collapsed": false
   },
   "outputs": [],
   "source": [
    "splitter = model_selection.ShuffleSplit(1,0.1)\n",
    "train = merged.iloc[[x for x in splitter.split(merged)][0][0]]"
   ]
  },
  {
   "cell_type": "code",
   "execution_count": 35,
   "metadata": {
    "collapsed": false
   },
   "outputs": [
    {
     "name": "stdout",
     "output_type": "stream",
     "text": [
      "opimizing, input table has 60377 rows\n",
      "     fun: 237.89965379167091\n",
      "     jac: array([ -1.80435181e-03,   3.81469727e-04,   2.02560425e-03,\n",
      "         1.76996803e+01,  -5.60079422e+01,   4.44985199e+00,\n",
      "         5.41940422e+01,   8.15200806e-03,   1.49154663e-03,\n",
      "         2.93554688e+00,   4.87899780e-03,  -1.46689796e+01,\n",
      "         2.53004669e+02,   7.30514526e-03,  -8.24138451e+01,\n",
      "         8.51440430e-03,   0.00000000e+00])\n",
      " message: 'Optimization terminated successfully.'\n",
      "    nfev: 412\n",
      "     nit: 22\n",
      "    njev: 22\n",
      "  status: 0\n",
      " success: True\n",
      "       x: array([  3.19103954e-01,   5.99046763e-01,   1.26264289e-01,\n",
      "         3.55008803e-10,   1.00000000e+00,   0.00000000e+00,\n",
      "         9.60786308e-10,   6.68259548e-02,   2.64664819e-01,\n",
      "         0.00000000e+00,   5.92685526e-01,   1.00000000e+00,\n",
      "         3.11596829e-09,   5.27829035e-01,   9.99999999e-01,\n",
      "         1.10083651e-01])\n",
      "error: 0.0627718222829\n"
     ]
    }
   ],
   "source": [
    "res_train=optimize(train)"
   ]
  },
  {
   "cell_type": "code",
   "execution_count": 36,
   "metadata": {
    "collapsed": true
   },
   "outputs": [],
   "source": [
    "splitter = model_selection.ShuffleSplit(1,0.1)\n",
    "train = merged.iloc[[x for x in splitter.split(merged)][0][0]]"
   ]
  },
  {
   "cell_type": "code",
   "execution_count": 37,
   "metadata": {
    "collapsed": false
   },
   "outputs": [
    {
     "name": "stdout",
     "output_type": "stream",
     "text": [
      "opimizing, input table has 60377 rows\n",
      "     fun: 238.4550824444297\n",
      "     jac: array([  3.98635864e-04,  -1.55830383e-03,   8.17489624e-03,\n",
      "         1.74214668e+01,  -5.60459957e+01,   3.85927010e+00,\n",
      "         5.33163280e+01,   3.02696228e-03,  -1.44958496e-03,\n",
      "         3.04081154e+00,  -8.88824463e-03,  -1.41430283e+01,\n",
      "         2.51878880e+02,  -1.26762390e-02,  -8.36517258e+01,\n",
      "        -1.65290833e-02,   0.00000000e+00])\n",
      " message: 'Optimization terminated successfully.'\n",
      "    nfev: 412\n",
      "     nit: 22\n",
      "    njev: 22\n",
      "  status: 0\n",
      " success: True\n",
      "       x: array([  3.17673002e-01,   5.94661446e-01,   1.26227630e-01,\n",
      "         0.00000000e+00,   9.99999999e-01,   3.37464405e-10,\n",
      "         0.00000000e+00,   6.76501068e-02,   2.60531533e-01,\n",
      "         9.74648594e-11,   5.92327278e-01,   1.00000000e+00,\n",
      "         0.00000000e+00,   5.28642591e-01,   1.00000000e+00,\n",
      "         1.10231128e-01])\n",
      "error: 0.0628450568204\n"
     ]
    }
   ],
   "source": [
    "res_train1=optimize(train)"
   ]
  },
  {
   "cell_type": "code",
   "execution_count": 38,
   "metadata": {
    "collapsed": false
   },
   "outputs": [
    {
     "data": {
      "text/html": [
       "<div>\n",
       "<table border=\"1\" class=\"dataframe\">\n",
       "  <thead>\n",
       "    <tr style=\"text-align: right;\">\n",
       "      <th></th>\n",
       "      <th>LE PEN_y</th>\n",
       "      <th>MACRON_y</th>\n",
       "      <th>Abstention, blanc, nul</th>\n",
       "    </tr>\n",
       "  </thead>\n",
       "  <tbody>\n",
       "    <tr>\n",
       "      <th>Other candidates</th>\n",
       "      <td>-0.001</td>\n",
       "      <td>-0.004</td>\n",
       "      <td>0.006</td>\n",
       "    </tr>\n",
       "    <tr>\n",
       "      <th>DUPONT-AIGNAN</th>\n",
       "      <td>-0.004</td>\n",
       "      <td>0.000</td>\n",
       "      <td>0.004</td>\n",
       "    </tr>\n",
       "    <tr>\n",
       "      <th>FILLON</th>\n",
       "      <td>0.000</td>\n",
       "      <td>-0.001</td>\n",
       "      <td>0.000</td>\n",
       "    </tr>\n",
       "    <tr>\n",
       "      <th>HAMON</th>\n",
       "      <td>0.000</td>\n",
       "      <td>0.000</td>\n",
       "      <td>0.000</td>\n",
       "    </tr>\n",
       "    <tr>\n",
       "      <th>LE PEN_x</th>\n",
       "      <td>0.000</td>\n",
       "      <td>0.000</td>\n",
       "      <td>0.000</td>\n",
       "    </tr>\n",
       "    <tr>\n",
       "      <th>MELENCHON</th>\n",
       "      <td>0.000</td>\n",
       "      <td>0.001</td>\n",
       "      <td>-0.001</td>\n",
       "    </tr>\n",
       "    <tr>\n",
       "      <th>MACRON_x</th>\n",
       "      <td>0.000</td>\n",
       "      <td>0.000</td>\n",
       "      <td>0.000</td>\n",
       "    </tr>\n",
       "    <tr>\n",
       "      <th>Abstention, blanc, nul_x</th>\n",
       "      <td>0.001</td>\n",
       "      <td>0.000</td>\n",
       "      <td>-0.001</td>\n",
       "    </tr>\n",
       "  </tbody>\n",
       "</table>\n",
       "</div>"
      ],
      "text/plain": [
       "                          LE PEN_y  MACRON_y  Abstention, blanc, nul\n",
       "Other candidates            -0.001    -0.004                   0.006\n",
       "DUPONT-AIGNAN               -0.004     0.000                   0.004\n",
       "FILLON                       0.000    -0.001                   0.000\n",
       "HAMON                        0.000     0.000                   0.000\n",
       "LE PEN_x                     0.000     0.000                   0.000\n",
       "MELENCHON                    0.000     0.001                  -0.001\n",
       "MACRON_x                     0.000     0.000                   0.000\n",
       "Abstention, blanc, nul_x     0.001     0.000                  -0.001"
      ]
     },
     "execution_count": 38,
     "metadata": {},
     "output_type": "execute_result"
    }
   ],
   "source": [
    "res_train1-res_train"
   ]
  },
  {
   "cell_type": "markdown",
   "metadata": {
    "collapsed": true
   },
   "source": [
    "## Visualization of the results"
   ]
  },
  {
   "cell_type": "code",
   "execution_count": 39,
   "metadata": {
    "collapsed": false
   },
   "outputs": [],
   "source": [
    "res_premier=merged[nms_compressed].sum()/merged['Inscrits_x'].sum()"
   ]
  },
  {
   "cell_type": "code",
   "execution_count": 40,
   "metadata": {
    "collapsed": true
   },
   "outputs": [],
   "source": [
    "res_new=((res_premier*res_c.T).T).round(3)"
   ]
  },
  {
   "cell_type": "code",
   "execution_count": 43,
   "metadata": {
    "collapsed": false
   },
   "outputs": [
    {
     "data": {
      "image/png": "[encoded data removed]",
      "text/plain": [
       "<matplotlib.figure.Figure at 0x11932ced0>"
      ]
     },
     "metadata": {},
     "output_type": "display_data"
    }
   ],
   "source": [
    "def form(x): \n",
    "    return x if ((len(x)<2) or ((x[len(x)-2:]!='_x') and  (x[len(x)-2:]!='_y') )) else x[:len(x)-2]\n",
    "chart1=res_new.copy()\n",
    "chart1['total']=chart1.sum(axis=1)\n",
    "chart1=chart1.sort_values(['total'])*100\n",
    "bar_h=10\n",
    "x_init=0.12*100\n",
    "fig=plt.figure(facecolor='white')\n",
    "ax=fig.add_subplot(111)\n",
    "ax.set_axis_bgcolor('white')\n",
    "ax.text(0,bar_h*len(chart1.index)+bar_h*0.2,'First round',fontsize=13)\n",
    "for i in range(len(chart1.index)):\n",
    "    ax.bar(x_init+chart1.iloc[i,0],bar_h,chart1.iloc[i,1],bottom=bar_h*i,color='red')\n",
    "    ax.bar(x_init,bar_h,chart1.iloc[i,0],bottom=bar_h*i,color='blue')\n",
    "    ax.bar(x_init+chart1.iloc[i,0]+chart1.iloc[i,1],bar_h,chart1.iloc[i,2],bottom=bar_h*i,color='grey')\n",
    "    ax.text(0,bar_h*i+bar_h*0.5,form(chart1.index[i]),fontweight='bold',fontsize=13)\n",
    "lg=ax.legend(['Macron','Le Pen','Abstention, blanc, nul'],loc=(0.65,0.12),title='Second round',fontsize=13)\n",
    "plt.setp(lg.get_title(),fontsize=14)\n",
    "ax.set_yticks([])\n",
    "ticks=np.arange(0,40,5)\n",
    "ax.set_xticks(ticks+x_init)\n",
    "ax.set_xticklabels([str(x) for x in ticks],fontsize=13)\n",
    "ax.text(0,bar_h*(len(chart1.index)+1),'Transfer of votes between the two rounds',\n",
    "             fontweight='bold',\n",
    "             fontsize=17\n",
    "             )\n",
    "ax.set_xlabel('% of all votes',fontsize=13)\n",
    "plt.show()"
   ]
  },
  {
   "cell_type": "markdown",
   "metadata": {},
   "source": [
    "#### The table containing percents of vote transfers"
   ]
  },
  {
   "cell_type": "code",
   "execution_count": 50,
   "metadata": {
    "collapsed": false
   },
   "outputs": [],
   "source": [
    "table_html=(pd.DataFrame(np.array(res_c),columns=['Le Pen','Macron','Abstention, blanc, nul'],\n",
    "             index=['Other candidates','Dupont-Aignan','Fillon','Hamon',\n",
    "                    'Le Pen','Mélenchon','Macron','Abstention, blanc, nul']).sort_values('Macron',ascending=False)*100).round(1).to_html()\n",
    "      "
   ]
  },
  {
   "cell_type": "code",
   "execution_count": 51,
   "metadata": {
    "collapsed": false
   },
   "outputs": [
    {
     "data": {
      "text/html": [
       "<table border=\"1\" class=\"dataframe\">\n",
       "  <thead>\n",
       "    <tr style=\"text-align: right;\">\n",
       "      <th></th>\n",
       "      <th>Le Pen</th>\n",
       "      <th>Macron</th>\n",
       "      <th>Abstention, blanc, nul</th>\n",
       "    </tr>\n",
       "  </thead>\n",
       "  <tbody>\n",
       "    <tr>\n",
       "      <th>Hamon</th>\n",
       "      <td>0.0</td>\n",
       "      <td>100.0</td>\n",
       "      <td>0.0</td>\n",
       "    </tr>\n",
       "    <tr>\n",
       "      <th>Macron</th>\n",
       "      <td>0.0</td>\n",
       "      <td>100.0</td>\n",
       "      <td>0.0</td>\n",
       "    </tr>\n",
       "    <tr>\n",
       "      <th>Fillon</th>\n",
       "      <td>12.6</td>\n",
       "      <td>59.3</td>\n",
       "      <td>28.1</td>\n",
       "    </tr>\n",
       "    <tr>\n",
       "      <th>Mélenchon</th>\n",
       "      <td>0.0</td>\n",
       "      <td>53.0</td>\n",
       "      <td>47.0</td>\n",
       "    </tr>\n",
       "    <tr>\n",
       "      <th>Other candidates</th>\n",
       "      <td>32.1</td>\n",
       "      <td>25.8</td>\n",
       "      <td>42.2</td>\n",
       "    </tr>\n",
       "    <tr>\n",
       "      <th>Abstention, blanc, nul</th>\n",
       "      <td>6.7</td>\n",
       "      <td>10.9</td>\n",
       "      <td>82.4</td>\n",
       "    </tr>\n",
       "    <tr>\n",
       "      <th>Dupont-Aignan</th>\n",
       "      <td>59.6</td>\n",
       "      <td>0.0</td>\n",
       "      <td>40.4</td>\n",
       "    </tr>\n",
       "    <tr>\n",
       "      <th>Le Pen</th>\n",
       "      <td>100.0</td>\n",
       "      <td>0.0</td>\n",
       "      <td>0.0</td>\n",
       "    </tr>\n",
       "  </tbody>\n",
       "</table>"
      ],
      "text/plain": [
       "<IPython.core.display.HTML object>"
      ]
     },
     "execution_count": 51,
     "metadata": {},
     "output_type": "execute_result"
    }
   ],
   "source": [
    "HTML(table_html)"
   ]
  },
  {
   "cell_type": "code",
   "execution_count": null,
   "metadata": {
    "collapsed": true
   },
   "outputs": [],
   "source": []
  }
 ],
 "metadata": {
  "anaconda-cloud": {},
  "kernelspec": {
   "display_name": "Python [conda root]",
   "language": "python",
   "name": "conda-root-py"
  },
  "language_info": {
   "codemirror_mode": {
    "name": "ipython",
    "version": 2
   },
   "file_extension": ".py",
   "mimetype": "text/x-python",
   "name": "python",
   "nbconvert_exporter": "python",
   "pygments_lexer": "ipython2",
   "version": "2.7.12"
  }
 },
 "nbformat": 4,
 "nbformat_minor": 1
}
